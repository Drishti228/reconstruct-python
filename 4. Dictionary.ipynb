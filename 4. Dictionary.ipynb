{
 "cells": [
  {
   "cell_type": "code",
   "execution_count": 3,
   "id": "aafa2c5a",
   "metadata": {},
   "outputs": [
    {
     "name": "stdout",
     "output_type": "stream",
     "text": [
      "Number of keys you want to have : 3\n",
      "Enter the key and value separated by a space for 1 : emp 101\n",
      "Enter the key and value separated by a space for 2 : name ABC\n",
      "Enter the key and value separated by a space for 3 : email abc@gmail.com\n"
     ]
    }
   ],
   "source": [
    "# TAKING INPUT IN DICTIONARY \n",
    "\n",
    "d = []\n",
    "n = int(input(\"Number of keys you want to have : \"))\n",
    "\n",
    "d = dict(input(\"Enter the key and value separated by a space for {} : \".format(i+1)).split()for i in range(n))\n",
    "    "
   ]
  },
  {
   "cell_type": "code",
   "execution_count": 4,
   "id": "df0db67a",
   "metadata": {},
   "outputs": [
    {
     "name": "stdout",
     "output_type": "stream",
     "text": [
      "{'emp': '101', 'name': 'ABC', 'email': 'abc@gmail.com'}\n"
     ]
    }
   ],
   "source": [
    "print(d)"
   ]
  },
  {
   "cell_type": "code",
   "execution_count": 5,
   "id": "0644619b",
   "metadata": {},
   "outputs": [
    {
     "name": "stdout",
     "output_type": "stream",
     "text": [
      "{'emp': '101', 'name': 'ABC', 'email': 'abc@gmail.com', 'contact': 123456789}\n"
     ]
    }
   ],
   "source": [
    "d[\"contact\"]=123456789\n",
    "print(d)"
   ]
  },
  {
   "cell_type": "code",
   "execution_count": 6,
   "id": "be86847e",
   "metadata": {},
   "outputs": [
    {
     "name": "stdout",
     "output_type": "stream",
     "text": [
      "-1\n"
     ]
    }
   ],
   "source": [
    "print(d.get(\"age\",-1)) # as age is not any keyword "
   ]
  },
  {
   "cell_type": "code",
   "execution_count": 7,
   "id": "8c94a1e6",
   "metadata": {},
   "outputs": [
    {
     "name": "stdout",
     "output_type": "stream",
     "text": [
      "{'emp': '101', 'name': 'ABC', 'email': 'abc@gmail.com', 'contact': 123456789, 'age': 23}\n"
     ]
    }
   ],
   "source": [
    "d[\"age\"]=23\n",
    "print(d)"
   ]
  },
  {
   "cell_type": "code",
   "execution_count": 8,
   "id": "fb0891fc",
   "metadata": {},
   "outputs": [
    {
     "name": "stdout",
     "output_type": "stream",
     "text": [
      "23\n"
     ]
    }
   ],
   "source": [
    "print(d.get(\"age\",-1))"
   ]
  },
  {
   "cell_type": "code",
   "execution_count": 13,
   "id": "aea517e3",
   "metadata": {},
   "outputs": [
    {
     "name": "stdout",
     "output_type": "stream",
     "text": [
      "{1: 1, 2: 4, 3: 9, 4: 16, 5: 25, 6: 36, 7: 49, 8: 64, 9: 81, 10: 100}\n"
     ]
    }
   ],
   "source": [
    "e={}\n",
    "#d = {1:1,2:2,3:9,4:16,5:25,6:36,7:49,8:64,9:81,10:100}\n",
    "for keys in range(1,11):\n",
    "    e[keys] = keys*keys \n",
    "print(e)"
   ]
  },
  {
   "cell_type": "code",
   "execution_count": 14,
   "id": "b6e87cbe",
   "metadata": {},
   "outputs": [
    {
     "name": "stdout",
     "output_type": "stream",
     "text": [
      "dict_keys(['emp', 'name', 'email', 'contact', 'age'])\n"
     ]
    }
   ],
   "source": [
    "print(d.keys())"
   ]
  },
  {
   "cell_type": "code",
   "execution_count": 15,
   "id": "9401a301",
   "metadata": {},
   "outputs": [
    {
     "name": "stdout",
     "output_type": "stream",
     "text": [
      "dict_values(['101', 'ABC', 'abc@gmail.com', 123456789, 23])\n"
     ]
    }
   ],
   "source": [
    "print(d.values())"
   ]
  },
  {
   "cell_type": "code",
   "execution_count": 16,
   "id": "3c2cb1e8",
   "metadata": {},
   "outputs": [
    {
     "name": "stdout",
     "output_type": "stream",
     "text": [
      "dict_items([('emp', '101'), ('name', 'ABC'), ('email', 'abc@gmail.com'), ('contact', 123456789), ('age', 23)])\n"
     ]
    }
   ],
   "source": [
    "print(d.items())"
   ]
  },
  {
   "cell_type": "markdown",
   "id": "2e84ccaa",
   "metadata": {},
   "source": [
    "##### ------------------------------------------"
   ]
  },
  {
   "cell_type": "code",
   "execution_count": 17,
   "id": "0ea74715",
   "metadata": {},
   "outputs": [
    {
     "name": "stdout",
     "output_type": "stream",
     "text": [
      "{1: 1, 2: 4, 3: 9, 4: 16}\n"
     ]
    }
   ],
   "source": [
    "l1 = [1,2,3,4]\n",
    "l2 = [1,4,9,16,25]\n",
    "f = dict(zip(l1,l2))\n",
    "print(f)"
   ]
  },
  {
   "cell_type": "code",
   "execution_count": 18,
   "id": "595909f6",
   "metadata": {},
   "outputs": [
    {
     "name": "stdout",
     "output_type": "stream",
     "text": [
      "{1: None, 2: None, 3: None, 4: None, 5: None}\n"
     ]
    }
   ],
   "source": [
    "l = [1,2,3,4,5]\n",
    "f = dict.fromkeys(l)\n",
    "print(f)"
   ]
  },
  {
   "cell_type": "code",
   "execution_count": 20,
   "id": "4d84dd56",
   "metadata": {},
   "outputs": [
    {
     "name": "stdout",
     "output_type": "stream",
     "text": [
      "{1: 1, 2: 4, 3: 9, 4: 16, 5: 25, 6: 36, 7: 49}\n"
     ]
    }
   ],
   "source": [
    "# merging d1 and d2 \n",
    "d1 = {1:1,2:4,3:9,4:16}\n",
    "d2 = {5:25,6:36,7:49}\n",
    "d1.update(d2)\n",
    "print(d1)"
   ]
  },
  {
   "cell_type": "code",
   "execution_count": 21,
   "id": "d6dfd1aa",
   "metadata": {},
   "outputs": [
    {
     "name": "stdout",
     "output_type": "stream",
     "text": [
      "{1: 1, 2: 4, 4: 16, 5: 25, 6: 36, 7: 49} 9\n"
     ]
    }
   ],
   "source": [
    "r = d1.pop(3)\n",
    "print(d1,r) # returning only value "
   ]
  },
  {
   "cell_type": "code",
   "execution_count": 24,
   "id": "8ba5ef67",
   "metadata": {},
   "outputs": [
    {
     "name": "stdout",
     "output_type": "stream",
     "text": [
      "{1: 1, 2: 4, 4: 16, 5: 25, 6: 36} (7, 49)\n"
     ]
    }
   ],
   "source": [
    "r = d1.popitem()\n",
    "print(d1,r)"
   ]
  },
  {
   "cell_type": "code",
   "execution_count": 25,
   "id": "462de661",
   "metadata": {},
   "outputs": [
    {
     "name": "stdout",
     "output_type": "stream",
     "text": [
      "{}\n"
     ]
    }
   ],
   "source": [
    "d1.clear()\n",
    "print(d1)"
   ]
  },
  {
   "cell_type": "code",
   "execution_count": 26,
   "id": "10e06920",
   "metadata": {},
   "outputs": [],
   "source": [
    "del d1"
   ]
  },
  {
   "cell_type": "code",
   "execution_count": 27,
   "id": "ce853f5b",
   "metadata": {},
   "outputs": [
    {
     "ename": "NameError",
     "evalue": "name 'd1' is not defined",
     "output_type": "error",
     "traceback": [
      "\u001b[1;31m---------------------------------------------------------------------------\u001b[0m",
      "\u001b[1;31mNameError\u001b[0m                                 Traceback (most recent call last)",
      "Cell \u001b[1;32mIn[27], line 1\u001b[0m\n\u001b[1;32m----> 1\u001b[0m \u001b[38;5;28mprint\u001b[39m(\u001b[43md1\u001b[49m)\n",
      "\u001b[1;31mNameError\u001b[0m: name 'd1' is not defined"
     ]
    }
   ],
   "source": [
    "print(d1)"
   ]
  }
 ],
 "metadata": {
  "kernelspec": {
   "display_name": "Python 3 (ipykernel)",
   "language": "python",
   "name": "python3"
  },
  "language_info": {
   "codemirror_mode": {
    "name": "ipython",
    "version": 3
   },
   "file_extension": ".py",
   "mimetype": "text/x-python",
   "name": "python",
   "nbconvert_exporter": "python",
   "pygments_lexer": "ipython3",
   "version": "3.10.9"
  }
 },
 "nbformat": 4,
 "nbformat_minor": 5
}
