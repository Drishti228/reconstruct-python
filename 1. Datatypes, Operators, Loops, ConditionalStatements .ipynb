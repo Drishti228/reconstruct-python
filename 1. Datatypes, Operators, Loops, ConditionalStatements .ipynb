{
 "cells": [
  {
   "cell_type": "code",
   "execution_count": 1,
   "id": "74f034cc",
   "metadata": {},
   "outputs": [
    {
     "name": "stdout",
     "output_type": "stream",
     "text": [
      "2179705210384\n",
      "2179705210384\n",
      "2179705210416\n"
     ]
    }
   ],
   "source": [
    "age = 42\n",
    "print(id(age))\n",
    "\n",
    "age1 = 42\n",
    "print(id(age1))\n",
    "age = 43\n",
    "print(id(age))\n",
    "#we can see that even if the variables have changed, but if the value is same, we will still have the same memory location."
   ]
  },
  {
   "cell_type": "code",
   "execution_count": 2,
   "id": "0ff37360",
   "metadata": {},
   "outputs": [
    {
     "name": "stdout",
     "output_type": "stream",
     "text": [
      "0b10\n",
      "1\n",
      "0b1\n",
      "0b1\n",
      "0b100\n"
     ]
    }
   ],
   "source": [
    "print(bin(2))\n",
    "print(2>>1)\n",
    "print(bin(1))\n",
    "print(bin(2>>1))\n",
    "print(bin(2<<1))\n"
   ]
  },
  {
   "cell_type": "code",
   "execution_count": 3,
   "id": "cca6db7c",
   "metadata": {},
   "outputs": [
    {
     "name": "stdout",
     "output_type": "stream",
     "text": [
      "[1505, 1540, 1575, 1610, 1645, 1680, 1715, 1750, 1785, 1820, 1855, 1890, 1925, 1960, 1995, 2030, 2065, 2100, 2135, 2170, 2205, 2240, 2275, 2310, 2345, 2380, 2415, 2450, 2485, 2520, 2555, 2590, 2625, 2660, 2695]\n"
     ]
    }
   ],
   "source": [
    "# Question 01 : Write a program to find those numbers which are divisible by 7 and 5, between 1500 and 2700\n",
    "# Solution thinking\n",
    "    # we have to use logical operator 'and' operator\n",
    "    # range(1500,2701) -> 1500, 1501, 1502 ... 2700\n",
    "\n",
    "list = []\n",
    "for value in range(1500,2701):\n",
    "    if (value%7==0) and (value%5==0):\n",
    "        list.append(value)\n",
    "print(list)"
   ]
  },
  {
   "cell_type": "code",
   "execution_count": 5,
   "id": "8399894c",
   "metadata": {},
   "outputs": [
    {
     "name": "stdout",
     "output_type": "stream",
     "text": [
      "Enter the number of elements you want to work in series : 9\n",
      "1\n",
      "2\n",
      "3\n",
      "4\n",
      "5\n",
      "6\n",
      "7\n",
      "8\n",
      "9\n",
      "Number of even numbers in series are : 4 and these are the elements : [2, 4, 6, 8]\n",
      "Number of odd numbers in series are : 5 and these are the elements : [1, 3, 5, 7, 9]\n"
     ]
    }
   ],
   "source": [
    "# Question 02 : Count the numbers of even and odd \n",
    "# series = 1,2,3,4,5,6,7,8,9\n",
    "# Solution Thinking \n",
    "    # value in series to iterate \n",
    "    # make two markers evencounter and oddcounter \n",
    "    # if value%2==0  else odd \n",
    "    \n",
    "n = int(input(\"Enter the number of elements you want to work in series : \"))\n",
    "series = []\n",
    "evencounter = 0\n",
    "oddcounter = 0\n",
    "listeven = []\n",
    "listodd = []\n",
    "for i in range(0,n):\n",
    "    ele = int(input())\n",
    "    series.append(ele)\n",
    "for value in series:\n",
    "    if (value%2==0):\n",
    "        evencounter += 1\n",
    "        listeven.append(value)\n",
    "    else:\n",
    "        oddcounter += 1\n",
    "        listodd.append(value)\n",
    "        \n",
    "print(\"Number of even numbers in series are : {} and these are the elements : {}\".format(evencounter,listeven))\n",
    "print(\"Number of odd numbers in series are : {} and these are the elements : {}\".format(oddcounter,listodd)) \n"
   ]
  },
  {
   "cell_type": "code",
   "execution_count": 10,
   "id": "b5bc70da",
   "metadata": {},
   "outputs": [
    {
     "name": "stdout",
     "output_type": "stream",
     "text": [
      "1\n",
      "2\n",
      "Fizz\n",
      "4\n",
      "Buzz\n",
      "Fizz\n",
      "7\n",
      "8\n",
      "Fizz\n",
      "Buzz\n",
      "11\n",
      "Fizz\n",
      "13\n",
      "14\n",
      "FizzBuzz\n",
      "16\n",
      "17\n",
      "Fizz\n",
      "19\n",
      "Buzz\n",
      "Fizz\n",
      "22\n",
      "23\n",
      "Fizz\n",
      "Buzz\n",
      "26\n",
      "Fizz\n",
      "28\n",
      "29\n",
      "FizzBuzz\n",
      "31\n",
      "32\n",
      "Fizz\n",
      "34\n",
      "Buzz\n",
      "Fizz\n",
      "37\n",
      "38\n",
      "Fizz\n",
      "Buzz\n",
      "41\n",
      "Fizz\n",
      "43\n",
      "44\n",
      "FizzBuzz\n",
      "46\n",
      "47\n",
      "Fizz\n",
      "49\n",
      "Buzz\n"
     ]
    }
   ],
   "source": [
    "# Question 03\n",
    "# numbers are 1 to 50 \n",
    "# for multiples of 3 print Fizz\n",
    "# for multiples of 5 print Buzz\n",
    "# for multiple of 3&5 print FizzBuzz\n",
    "\n",
    "# Solution\n",
    "\n",
    "for value in range(1,51):\n",
    "    if((value%3==0) and (value%5==0)):\n",
    "        print(\"FizzBuzz\")\n",
    "    elif(value%3==0):\n",
    "        print(\"Fizz\")\n",
    "    elif(value%5==0):\n",
    "        print(\"Buzz\")\n",
    "    else:\n",
    "        print(value)"
   ]
  },
  {
   "cell_type": "code",
   "execution_count": 23,
   "id": "e368c54f",
   "metadata": {},
   "outputs": [
    {
     "name": "stdout",
     "output_type": "stream",
     "text": [
      "Enter the numbers you want : 5\n",
      "1\n",
      "2\n",
      "3\n",
      "4\n",
      "5\n",
      "15\n",
      "3.0\n",
      "15\n",
      "3.0\n"
     ]
    }
   ],
   "source": [
    "# Question 04 \n",
    "# Calculate the sum and average of n integer numbers\n",
    "#Solution thinking\n",
    "    # now this can be thought of in two ways\n",
    "\n",
    "add = 0 \n",
    "avg = 0\n",
    "    \n",
    "# 1. There is a number which has multiple digits and we fins the sum and average of digits\n",
    "n =int(input(\"Enter the number till which you want to find the sum and average : \"))\n",
    "for value in range(1,n+1):\n",
    "    add = add + value\n",
    "    avg = add / n\n",
    "print(add)\n",
    "print(avg)\n",
    "\n",
    "\n",
    "# 2. There are multiple numbers and we find the sum and avg of them. \n",
    "\n",
    "lst = []\n",
    "n = int(input(\"Enter the numbers you want : \"))\n",
    "for i in range(0,n):\n",
    "    val = int(input())\n",
    "    lst.append(val)\n",
    "\n",
    "# if we use function\n",
    "print(sum(lst))\n",
    "print(sum(lst)/len(lst))\n",
    "\n",
    "# if we iterate\n",
    "for j in lst:\n",
    "    add = add + j\n",
    "    avg = add/len(lst)\n",
    "print(add)\n",
    "print(avg)\n",
    "    \n",
    "\n",
    "        "
   ]
  },
  {
   "cell_type": "code",
   "execution_count": 27,
   "id": "6ce8716f",
   "metadata": {
    "scrolled": true
   },
   "outputs": [
    {
     "name": "stdout",
     "output_type": "stream",
     "text": [
      "Enter the number till which we want the factorial: 4\n",
      "24\n"
     ]
    }
   ],
   "source": [
    "# Question 05\n",
    "# n! = 1*2*3*(n-1)*n\n",
    "# find the factorial of numbers \n",
    "\n",
    "num = 1\n",
    "n = int(input(\"Enter the number till which we want the factorial: \"))\n",
    "for i in range(1,n+1):\n",
    "    num = i * num \n",
    "print(num)"
   ]
  },
  {
   "cell_type": "code",
   "execution_count": null,
   "id": "f5d7d8f0",
   "metadata": {},
   "outputs": [],
   "source": []
  }
 ],
 "metadata": {
  "kernelspec": {
   "display_name": "Python 3 (ipykernel)",
   "language": "python",
   "name": "python3"
  },
  "language_info": {
   "codemirror_mode": {
    "name": "ipython",
    "version": 3
   },
   "file_extension": ".py",
   "mimetype": "text/x-python",
   "name": "python",
   "nbconvert_exporter": "python",
   "pygments_lexer": "ipython3",
   "version": "3.10.9"
  }
 },
 "nbformat": 4,
 "nbformat_minor": 5
}
