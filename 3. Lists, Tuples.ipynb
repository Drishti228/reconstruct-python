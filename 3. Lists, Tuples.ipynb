{
 "cells": [
  {
   "cell_type": "markdown",
   "id": "135a3cf6",
   "metadata": {},
   "source": [
    "## -------------------------------"
   ]
  },
  {
   "cell_type": "markdown",
   "id": "3c0eac21",
   "metadata": {},
   "source": [
    "## LISTS"
   ]
  },
  {
   "cell_type": "code",
   "execution_count": 2,
   "id": "fd2d0738",
   "metadata": {
    "scrolled": true
   },
   "outputs": [
    {
     "name": "stdout",
     "output_type": "stream",
     "text": [
      "89\n"
     ]
    }
   ],
   "source": [
    "l = [200,300,[25,89,244]]\n",
    "print(l[-1][1])"
   ]
  },
  {
   "cell_type": "code",
   "execution_count": 52,
   "id": "a03e57c1",
   "metadata": {},
   "outputs": [],
   "source": [
    "l = [100,200,700,50]"
   ]
  },
  {
   "cell_type": "code",
   "execution_count": 53,
   "id": "3be58b9d",
   "metadata": {},
   "outputs": [
    {
     "name": "stdout",
     "output_type": "stream",
     "text": [
      "100\n"
     ]
    }
   ],
   "source": [
    "print(l[0])"
   ]
  },
  {
   "cell_type": "code",
   "execution_count": 54,
   "id": "2d9b5bca",
   "metadata": {},
   "outputs": [
    {
     "name": "stdout",
     "output_type": "stream",
     "text": [
      "50\n"
     ]
    }
   ],
   "source": [
    "print(l[-1])"
   ]
  },
  {
   "cell_type": "code",
   "execution_count": 55,
   "id": "7442469e",
   "metadata": {},
   "outputs": [
    {
     "name": "stdout",
     "output_type": "stream",
     "text": [
      "[100, 200, 700, 50, 60]\n"
     ]
    }
   ],
   "source": [
    "\n",
    "l.append(60)\n",
    "print(l)"
   ]
  },
  {
   "cell_type": "code",
   "execution_count": 56,
   "id": "52adc4cc",
   "metadata": {},
   "outputs": [
    {
     "name": "stdout",
     "output_type": "stream",
     "text": [
      "[100, 200, 700, 50, 60, [60, 49]]\n"
     ]
    }
   ],
   "source": [
    "j = [60,49]\n",
    "l.append(j)\n",
    "print(l)"
   ]
  },
  {
   "cell_type": "code",
   "execution_count": 57,
   "id": "f41d3bca",
   "metadata": {},
   "outputs": [
    {
     "name": "stdout",
     "output_type": "stream",
     "text": [
      "[100, 200, 700, 50, 60, [60, 49], 275, 67]\n"
     ]
    }
   ],
   "source": [
    "l.extend([275,67])\n",
    "print(l)"
   ]
  },
  {
   "cell_type": "code",
   "execution_count": 58,
   "id": "a45bd81c",
   "metadata": {},
   "outputs": [],
   "source": [
    "# difference between extend and append \n",
    "# append add the list as list in list \n",
    "# extend add the list elements individually "
   ]
  },
  {
   "cell_type": "code",
   "execution_count": 59,
   "id": "45550d5c",
   "metadata": {},
   "outputs": [
    {
     "name": "stdout",
     "output_type": "stream",
     "text": [
      "[100, 399, 200, 700, 50, 60, [60, 49], 275, 67]\n"
     ]
    }
   ],
   "source": [
    "l.insert(1,399)\n",
    "print(l)"
   ]
  },
  {
   "cell_type": "code",
   "execution_count": 60,
   "id": "d0fba8af",
   "metadata": {},
   "outputs": [
    {
     "name": "stdout",
     "output_type": "stream",
     "text": [
      "[100, 399, 200, 700, 50, 60, [60, 49], 275, 67]\n"
     ]
    }
   ],
   "source": [
    "z = l.copy()\n",
    "print(z)"
   ]
  },
  {
   "cell_type": "code",
   "execution_count": 61,
   "id": "a2ce9c33",
   "metadata": {},
   "outputs": [
    {
     "name": "stdout",
     "output_type": "stream",
     "text": [
      "[100, 499, 200, 700, 50, 60, [60, 49], 275, 67]\n"
     ]
    }
   ],
   "source": [
    "#update\n",
    "z[1] = 499 # which was 399\n",
    "print(z)"
   ]
  },
  {
   "cell_type": "code",
   "execution_count": 62,
   "id": "35737fb6",
   "metadata": {},
   "outputs": [
    {
     "name": "stdout",
     "output_type": "stream",
     "text": [
      "[100, 499, 200, 700, 50, 60, 275, 67]\n",
      "[100, 499, 200, 700, 50, 60, 275, 67] [60, 49]\n"
     ]
    }
   ],
   "source": [
    "p = z.pop(6)\n",
    "print(z)\n",
    "print(z,p)"
   ]
  },
  {
   "cell_type": "code",
   "execution_count": 63,
   "id": "57871034",
   "metadata": {},
   "outputs": [
    {
     "name": "stdout",
     "output_type": "stream",
     "text": [
      "[100, 499, 200, 700, 50, 60, 275] 67\n"
     ]
    }
   ],
   "source": [
    "q = z.pop()\n",
    "print(z,q)"
   ]
  },
  {
   "cell_type": "code",
   "execution_count": 64,
   "id": "317904ee",
   "metadata": {},
   "outputs": [
    {
     "name": "stdout",
     "output_type": "stream",
     "text": [
      "[100, 200, 700, 50, 60, 275]\n"
     ]
    }
   ],
   "source": [
    "z.remove(499)\n",
    "print(z)\n",
    "#even if multiple 499 will be there, only one will be removed "
   ]
  },
  {
   "cell_type": "code",
   "execution_count": 65,
   "id": "251a9754",
   "metadata": {},
   "outputs": [
    {
     "name": "stdout",
     "output_type": "stream",
     "text": [
      "[50, 60, 100, 200, 275, 700]\n"
     ]
    }
   ],
   "source": [
    "z.sort()\n",
    "print(z)"
   ]
  },
  {
   "cell_type": "code",
   "execution_count": 66,
   "id": "056e183f",
   "metadata": {},
   "outputs": [
    {
     "name": "stdout",
     "output_type": "stream",
     "text": [
      "[700, 275, 200, 100, 60, 50]\n"
     ]
    }
   ],
   "source": [
    "z.reverse()\n",
    "print(z)"
   ]
  },
  {
   "cell_type": "code",
   "execution_count": 67,
   "id": "1d647be9",
   "metadata": {},
   "outputs": [
    {
     "name": "stdout",
     "output_type": "stream",
     "text": [
      "[50, 60, 100, 200, 275, 700]\n"
     ]
    }
   ],
   "source": [
    "e = sorted(z)\n",
    "print(e)"
   ]
  },
  {
   "cell_type": "code",
   "execution_count": 70,
   "id": "2f59a830",
   "metadata": {},
   "outputs": [
    {
     "name": "stdout",
     "output_type": "stream",
     "text": [
      "1\n"
     ]
    }
   ],
   "source": [
    "print(z.index(275)) #"
   ]
  },
  {
   "cell_type": "code",
   "execution_count": 73,
   "id": "3c74000d",
   "metadata": {},
   "outputs": [
    {
     "name": "stdout",
     "output_type": "stream",
     "text": [
      "[700, 275, 200, 100, 60, 50, 100, 100, 100, 100, 100, 100, 100, 100]\n",
      " \n",
      "9\n"
     ]
    }
   ],
   "source": [
    "z.extend([100,100,100,100])\n",
    "print(z)\n",
    "print(\" \")\n",
    "print(z.count(100))"
   ]
  },
  {
   "cell_type": "code",
   "execution_count": 74,
   "id": "174263f8",
   "metadata": {},
   "outputs": [
    {
     "name": "stdout",
     "output_type": "stream",
     "text": [
      "[700, 275, 200, 100, 60, 50, 100, 100, 100, 100, 100, 100, 100, 100, 100, 399, 200, 700, 50, 60, [60, 49], 275, 67]\n"
     ]
    }
   ],
   "source": [
    "print(z+l)"
   ]
  },
  {
   "cell_type": "code",
   "execution_count": 75,
   "id": "14cfd756",
   "metadata": {},
   "outputs": [
    {
     "name": "stdout",
     "output_type": "stream",
     "text": [
      "[700, 275, 200, 100, 60, 50, 100, 100, 100, 100, 100, 100, 100, 100, 700, 275, 200, 100, 60, 50, 100, 100, 100, 100, 100, 100, 100, 100, 700, 275, 200, 100, 60, 50, 100, 100, 100, 100, 100, 100, 100, 100, 700, 275, 200, 100, 60, 50, 100, 100, 100, 100, 100, 100, 100, 100, 700, 275, 200, 100, 60, 50, 100, 100, 100, 100, 100, 100, 100, 100, 700, 275, 200, 100, 60, 50, 100, 100, 100, 100, 100, 100, 100, 100, 700, 275, 200, 100, 60, 50, 100, 100, 100, 100, 100, 100, 100, 100, 700, 275, 200, 100, 60, 50, 100, 100, 100, 100, 100, 100, 100, 100, 700, 275, 200, 100, 60, 50, 100, 100, 100, 100, 100, 100, 100, 100, 700, 275, 200, 100, 60, 50, 100, 100, 100, 100, 100, 100, 100, 100]\n"
     ]
    }
   ],
   "source": [
    "print(z*10) # printing 10 times"
   ]
  },
  {
   "cell_type": "code",
   "execution_count": 76,
   "id": "05568679",
   "metadata": {},
   "outputs": [],
   "source": [
    "z.clear()"
   ]
  },
  {
   "cell_type": "code",
   "execution_count": 77,
   "id": "36c97181",
   "metadata": {},
   "outputs": [
    {
     "name": "stdout",
     "output_type": "stream",
     "text": [
      "[]\n"
     ]
    }
   ],
   "source": [
    "print(z)"
   ]
  },
  {
   "cell_type": "code",
   "execution_count": 79,
   "id": "4d34fc0a",
   "metadata": {},
   "outputs": [],
   "source": [
    "del z"
   ]
  },
  {
   "cell_type": "code",
   "execution_count": 81,
   "id": "46aa6507",
   "metadata": {
    "scrolled": true
   },
   "outputs": [
    {
     "ename": "NameError",
     "evalue": "name 'z' is not defined",
     "output_type": "error",
     "traceback": [
      "\u001b[1;31m---------------------------------------------------------------------------\u001b[0m",
      "\u001b[1;31mNameError\u001b[0m                                 Traceback (most recent call last)",
      "Cell \u001b[1;32mIn[81], line 1\u001b[0m\n\u001b[1;32m----> 1\u001b[0m \u001b[38;5;28mprint\u001b[39m(\u001b[43mz\u001b[49m)\n",
      "\u001b[1;31mNameError\u001b[0m: name 'z' is not defined"
     ]
    }
   ],
   "source": [
    "print(z)"
   ]
  },
  {
   "cell_type": "markdown",
   "id": "e2ddbeb7",
   "metadata": {},
   "source": [
    "## ----------------------------------------"
   ]
  },
  {
   "cell_type": "markdown",
   "id": "e4aa6bf1",
   "metadata": {},
   "source": [
    "## TUPLE"
   ]
  },
  {
   "cell_type": "code",
   "execution_count": 84,
   "id": "93b1a095",
   "metadata": {},
   "outputs": [
    {
     "name": "stdout",
     "output_type": "stream",
     "text": [
      "1\n"
     ]
    }
   ],
   "source": [
    "t = (10,20,30,40,50,60,50,30,50)\n",
    "print(t.index(20))"
   ]
  },
  {
   "cell_type": "code",
   "execution_count": 86,
   "id": "ece2ec94",
   "metadata": {},
   "outputs": [
    {
     "name": "stdout",
     "output_type": "stream",
     "text": [
      "3\n"
     ]
    }
   ],
   "source": [
    "print(t.count(50))"
   ]
  },
  {
   "cell_type": "code",
   "execution_count": 87,
   "id": "36e2266f",
   "metadata": {},
   "outputs": [
    {
     "name": "stdout",
     "output_type": "stream",
     "text": [
      "(10, 20, 30, 40)\n"
     ]
    }
   ],
   "source": [
    "print(t[0:4]) #0-3"
   ]
  },
  {
   "cell_type": "code",
   "execution_count": 95,
   "id": "1163452b",
   "metadata": {},
   "outputs": [
    {
     "name": "stdout",
     "output_type": "stream",
     "text": [
      "0 10\n",
      "1 20\n",
      "2 30\n",
      "3 40\n",
      "4 50\n",
      "5 60\n",
      "6 50\n",
      "7 30\n",
      "8 50\n"
     ]
    }
   ],
   "source": [
    "for i in enumerate(t):\n",
    "  print(i[0],i[1])"
   ]
  },
  {
   "cell_type": "code",
   "execution_count": 98,
   "id": "1f30abce",
   "metadata": {},
   "outputs": [
    {
     "name": "stdout",
     "output_type": "stream",
     "text": [
      "('a', 'b', 'c', 'd', 100)\n",
      "<class 'tuple'>\n",
      "['a', 'b', 'c', 'd', 100]\n",
      "<class 'list'>\n"
     ]
    }
   ],
   "source": [
    "l = [\"a\",\"b\",\"c\",\"d\",100]\n",
    "\n",
    "t = tuple(l)\n",
    "print(t)\n",
    "print(type(t))\n",
    "\n",
    "l2 = list(t)\n",
    "print(l2)\n",
    "print(type(l2))"
   ]
  },
  {
   "cell_type": "code",
   "execution_count": null,
   "id": "513f44ad",
   "metadata": {},
   "outputs": [],
   "source": []
  }
 ],
 "metadata": {
  "kernelspec": {
   "display_name": "Python 3 (ipykernel)",
   "language": "python",
   "name": "python3"
  },
  "language_info": {
   "codemirror_mode": {
    "name": "ipython",
    "version": 3
   },
   "file_extension": ".py",
   "mimetype": "text/x-python",
   "name": "python",
   "nbconvert_exporter": "python",
   "pygments_lexer": "ipython3",
   "version": "3.10.9"
  }
 },
 "nbformat": 4,
 "nbformat_minor": 5
}
