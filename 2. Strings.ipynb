{
 "cells": [
  {
   "cell_type": "code",
   "execution_count": 3,
   "id": "f76a34b1",
   "metadata": {},
   "outputs": [
    {
     "name": "stdout",
     "output_type": "stream",
     "text": [
      "memory location of word 'python' in s1 =  2761936060016\n",
      "2761965060016\n",
      "memory location of word 'python' in s2 =  2761936060016\n"
     ]
    }
   ],
   "source": [
    "# immutable \n",
    "\n",
    "s1 = \"python\"\n",
    "print(\"memory location of word 'python' in s1 = \", id(s1))\n",
    "\n",
    "s1 = \"drishti\"\n",
    "print(id(s1))\n",
    "\n",
    "s2 = \"python\"\n",
    "print(\"memory location of word 'python' in s2 = \", id(s2))"
   ]
  },
  {
   "cell_type": "code",
   "execution_count": 6,
   "id": "42c24d08",
   "metadata": {},
   "outputs": [
    {
     "name": "stdout",
     "output_type": "stream",
     "text": [
      "1. length of the string : 9\n",
      "2. printing first letter :  p\n",
      "3. printing last letter :  a a\n",
      "4. printing the string :  pneumonia\n",
      "5. printing from a start but don't know the ending :  monia\n",
      "6. printing from the start :  pneumonia\n"
     ]
    }
   ],
   "source": [
    "#SLICING \n",
    "\n",
    "s = \"pneumonia\"\n",
    "#    012345678 \n",
    "\n",
    "print(\"1. length of the string :\",len(s))\n",
    "print(\"2. printing first letter : \",s[0])\n",
    "print(\"3. printing last letter : \",s[-1],s[8])\n",
    "print(\"4. printing the string : \", s[0:9]) # we need letters from 0-8 so we write 0-9 (just like in for loop)\n",
    "print(\"5. printing from a start but don't know the ending : \", s[4:]) # leaving the space empty\n",
    "print(\"6. printing from the start : \", s[:9])"
   ]
  },
  {
   "cell_type": "code",
   "execution_count": 18,
   "id": "8978f983",
   "metadata": {},
   "outputs": [
    {
     "name": "stdout",
     "output_type": "stream",
     "text": [
      "1. printing every second character :pemna,pemna,pemna\n",
      "2. printing same string but in reverse order :  ainomuenp\n"
     ]
    }
   ],
   "source": [
    "# STRID\n",
    "\n",
    "s = \"pneumonia\"\n",
    "#    012345678\n",
    "print(\"1. printing every second character :{},{},{}\".format(s[::2],s[0::2],s[0:9:2]))\n",
    "print(\"2. printing same string but in reverse order : \", s[::-1])"
   ]
  },
  {
   "cell_type": "code",
   "execution_count": 24,
   "id": "b7af63fd",
   "metadata": {},
   "outputs": [
    {
     "name": "stdout",
     "output_type": "stream",
     "text": [
      "1. captitalizing the string :  Python is dope\n",
      "2. all caps :  PYTHON IS DOPE\n",
      "3. all small :  python is dope\n",
      "4. change the first letter of each word captial :  Python Is Dope\n",
      "5. to check if the string is all caps :  False\n",
      "6. to check if the string is all small :  True\n",
      "7. to check if the string is in title :  False\n"
     ]
    }
   ],
   "source": [
    "s = \"python is dope\"\n",
    "\n",
    "print(\"1. captitalizing the string : \", s.capitalize())\n",
    "print(\"2. all caps : \", s.upper())\n",
    "print(\"3. all small : \", s.lower())\n",
    "print(\"4. change the first letter of each word captial : \", s.title())\n",
    "print(\"5. to check if the string is all caps : \", s.isupper())\n",
    "print(\"6. to check if the string is all small : \", s.islower())\n",
    "print(\"7. to check if the string is in title : \", s.istitle())"
   ]
  },
  {
   "cell_type": "code",
   "execution_count": 25,
   "id": "385f514b",
   "metadata": {},
   "outputs": [
    {
     "name": "stdout",
     "output_type": "stream",
     "text": [
      "['this', 'is', 'a', 'cute', 'little', 'python']\n",
      "['this', 'is', 'a', 'cute', 'little', 'python']\n",
      "['this', 'is', 'a', 'cute', 'little', 'python']\n"
     ]
    }
   ],
   "source": [
    "# SPLIT\n",
    "# dividing string into list\n",
    "s = \"this,is,a,cute,little,python\"\n",
    "l = s.split(\",\")\n",
    "print(l)\n",
    "\n",
    "s1 = \"this, is, a, cute, little, python\"\n",
    "l1 = s1.split(\", \")\n",
    "print(l1)\n",
    "\n",
    "s2 = \"this is a cute little python\"\n",
    "l2 = s2.split(\" \")\n",
    "print(l2)\n"
   ]
  },
  {
   "cell_type": "code",
   "execution_count": 30,
   "id": "2f657b81",
   "metadata": {},
   "outputs": [
    {
     "name": "stdout",
     "output_type": "stream",
     "text": [
      "this is a cute little python\n",
      "thisisacutelittlepython\n",
      "this @ is @ a @ cute @ little @ python\n"
     ]
    }
   ],
   "source": [
    "#JOIN\n",
    "\n",
    "j = (\" \").join(l2)\n",
    "print(j)\n",
    "\n",
    "j1 = (\"\").join(l2)\n",
    "print(j1)\n",
    "\n",
    "j2 = (\" @ \").join(l2)\n",
    "print(j2)"
   ]
  },
  {
   "cell_type": "code",
   "execution_count": 33,
   "id": "630cadc6",
   "metadata": {},
   "outputs": [
    {
     "name": "stdout",
     "output_type": "stream",
     "text": [
      "python is so 1234\n"
     ]
    }
   ],
   "source": [
    "# MAKETRANS \n",
    "# TRANSLATE\n",
    "\n",
    "s1 = \"abcd\"\n",
    "s2 = \"1234\"\n",
    "s3 = \"python is so abcd\"\n",
    "table = str.maketrans(s1,s2) # swap it \n",
    "result = s3.translate(table) # translate it \n",
    "print(result)\n",
    "\n",
    "#as the statement was python is so abcd, and we swaped abcd with 1234 so..."
   ]
  },
  {
   "cell_type": "code",
   "execution_count": 46,
   "id": "d19fc718",
   "metadata": {},
   "outputs": [
    {
     "name": "stdout",
     "output_type": "stream",
     "text": [
      "True\n",
      "1.  10\n",
      "2.  True\n",
      "3.  10\n",
      "4.  10\n",
      "5.  15\n",
      "7.  -1\n"
     ]
    },
    {
     "ename": "ValueError",
     "evalue": "substring not found",
     "output_type": "error",
     "traceback": [
      "\u001b[1;31m---------------------------------------------------------------------------\u001b[0m",
      "\u001b[1;31mValueError\u001b[0m                                Traceback (most recent call last)",
      "Cell \u001b[1;32mIn[46], line 20\u001b[0m\n\u001b[0;32m     17\u001b[0m \u001b[38;5;66;03m# difference between the find function and index function is that,\u001b[39;00m\n\u001b[0;32m     18\u001b[0m \u001b[38;5;66;03m# if there is no string available like that, then index func will show error, while find will show -1\u001b[39;00m\n\u001b[0;32m     19\u001b[0m \u001b[38;5;28mprint\u001b[39m(\u001b[38;5;124m\"\u001b[39m\u001b[38;5;124m7. \u001b[39m\u001b[38;5;124m\"\u001b[39m, s\u001b[38;5;241m.\u001b[39mfind(\u001b[38;5;124m\"\u001b[39m\u001b[38;5;124mdrishti\u001b[39m\u001b[38;5;124m\"\u001b[39m))\n\u001b[1;32m---> 20\u001b[0m \u001b[38;5;28mprint\u001b[39m(\u001b[38;5;124m\"\u001b[39m\u001b[38;5;124m8. \u001b[39m\u001b[38;5;124m\"\u001b[39m, \u001b[43ms\u001b[49m\u001b[38;5;241;43m.\u001b[39;49m\u001b[43mindex\u001b[49m\u001b[43m(\u001b[49m\u001b[38;5;124;43m\"\u001b[39;49m\u001b[38;5;124;43mdrishti\u001b[39;49m\u001b[38;5;124;43m\"\u001b[39;49m\u001b[43m)\u001b[49m)\n",
      "\u001b[1;31mValueError\u001b[0m: substring not found"
     ]
    }
   ],
   "source": [
    "s = \"this,is,a,cute,little,python\"\n",
    "#    012345678910\n",
    "print(\"cute\" in s)\n",
    "print(\"1. \" ,s.index(\"cute\"))\n",
    "\n",
    "s = \"this is a cute little python\"\n",
    "#    012345678910\n",
    "print(\"2. \", \"cute\" in s)\n",
    "print(\"3. \", s.index(\"cute\"))\n",
    "\n",
    "\n",
    "print(\"4. \", s.find(\"cute\")) \n",
    "\n",
    "s1 = \"this,is,a,cute,little,python\"\n",
    "print(\"5. \",s1.rfind(\"little\")) # trying to find from right side\n",
    "\n",
    "# difference between the find function and index function is that,\n",
    "# if there is no string available like that, then index func will show error, while find will show -1\n",
    "print(\"7. \", s.find(\"drishti\"))\n",
    "print(\"8. \", s.index(\"drishti\")) # will show value error, substring not available \n"
   ]
  },
  {
   "cell_type": "code",
   "execution_count": 48,
   "id": "d5f3b32f",
   "metadata": {},
   "outputs": [
    {
     "name": "stdout",
     "output_type": "stream",
     "text": [
      "python is dope\n",
      "python is dope**********\n",
      "**********python is dope\n"
     ]
    }
   ],
   "source": [
    "# STRIP\n",
    "\n",
    "s = \"**********python is dope**********\"\n",
    "print(s.strip(\"*\"))\n",
    "print(s.lstrip(\"*\"))\n",
    "print(s.rstrip(\"*\"))"
   ]
  },
  {
   "cell_type": "code",
   "execution_count": 60,
   "id": "c92e1cf4",
   "metadata": {},
   "outputs": [
    {
     "name": "stdout",
     "output_type": "stream",
     "text": [
      "***dog****\n",
      "dog*******\n",
      "*******dog\n"
     ]
    }
   ],
   "source": [
    "# CENTER\n",
    "# LJUST\n",
    "# RJUST\n",
    "\n",
    "s = \"dog\"\n",
    "s1 = s.center(10,\"*\")\n",
    "print(s1)\n",
    "\n",
    "j = s.ljust(10,\"*\")\n",
    "print(j)\n",
    "\n",
    "k = s.rjust(10,\"*\")\n",
    "print(k)"
   ]
  }
 ],
 "metadata": {
  "kernelspec": {
   "display_name": "Python 3 (ipykernel)",
   "language": "python",
   "name": "python3"
  },
  "language_info": {
   "codemirror_mode": {
    "name": "ipython",
    "version": 3
   },
   "file_extension": ".py",
   "mimetype": "text/x-python",
   "name": "python",
   "nbconvert_exporter": "python",
   "pygments_lexer": "ipython3",
   "version": "3.10.9"
  }
 },
 "nbformat": 4,
 "nbformat_minor": 5
}
